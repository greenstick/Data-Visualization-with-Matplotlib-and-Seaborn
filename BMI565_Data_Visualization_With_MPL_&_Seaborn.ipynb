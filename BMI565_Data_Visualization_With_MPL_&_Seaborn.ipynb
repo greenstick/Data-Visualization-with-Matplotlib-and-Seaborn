{
 "cells": [
  {
   "cell_type": "markdown",
   "metadata": {},
   "source": [
    "# BMI565 - Bioinformatics Programming & Scripting\n",
    "\n",
    "## Data Visualization With Matplotlib & Seaborn\n",
    "\n",
    "#### Table of Contents\n",
    "\n",
    "1. [Introduction](#Introduction)\n",
    "    * Dependencies\n",
    "    * Installation\n",
    "    * Setup\n",
    "2. [Plotting With Matplotlib](#Plotting-With-Matplotlib)\n",
    "\n",
    "3. [Plotting With Seaborn](#Plotting-With-Seaborn)\n",
    "\n",
    "4. [In-Class Exercises](#In---Class-Exercises)\n",
    "5. [Reference](#Reference)\n",
    "\n",
    "### Introduction\n",
    "\n",
    "#### Dependencies\n",
    "\n",
    "The following dependencies are required to run this notebook. Note that the version numbers are primarily for reference; exact library versions are unlikely to be required.\n",
    "\n",
    "1. Python\n",
    "    * Python 3.x\n",
    "2. Python Libraries\n",
    "    * Jupyter 1.0.0\n",
    "    * Numpy 1.13.1\n",
    "    * Scipy 0.18.0\n",
    "    * Matplotlib 2.0.2\n",
    "    * Seaborn 0.8.1\n",
    "    \n",
    "#### Installation\n",
    "If you don't have the above libraries installed, paste & run the following commands into your terminal:\n",
    "```bash\n",
    "pip3 install jupyter==1.0.0    # Jupyter Notebook\n",
    "pip3 install numpy==1.13.1     # Numpy\n",
    "pip3 install scipy==0.19.1     # Scipy\n",
    "pip3 install matplotlib==2.0.2 # Matplotlib\n",
    "pip3 install seaborn==0.8.1    # Seaborn\n",
    "```\n",
    "*Use `pip` instead of `pip3` if using Python 2*\n",
    "\n",
    "#### Setup"
   ]
  },
  {
   "cell_type": "code",
   "execution_count": 3,
   "metadata": {
    "collapsed": true
   },
   "outputs": [],
   "source": [
    "# The following line is only needed inside the Jupyter notebook to render plots inline, it is not a Python statement\n",
    "%matplotlib inline\n",
    "\n",
    "# Imports: Standard Library\n",
    "import re as Rgx\n",
    "import math as Math\n",
    "\n",
    "# Imports: Third Party\n",
    "import pandas as Pandas\n",
    "import numpy as Numpy\n",
    "import scipy as Scipy\n",
    "import matplotlib.pyplot as Plot\n",
    "import seaborn as Seaborn"
   ]
  },
  {
   "cell_type": "code",
   "execution_count": 4,
   "metadata": {},
   "outputs": [
    {
     "ename": "SyntaxError",
     "evalue": "invalid syntax (<ipython-input-4-bd224a807ac6>, line 3)",
     "output_type": "error",
     "traceback": [
      "\u001b[0;36m  File \u001b[0;32m\"<ipython-input-4-bd224a807ac6>\"\u001b[0;36m, line \u001b[0;32m3\u001b[0m\n\u001b[0;31m    - Matplotlib is strongly influenced by Matlab\u001b[0m\n\u001b[0m                                      ^\u001b[0m\n\u001b[0;31mSyntaxError\u001b[0m\u001b[0;31m:\u001b[0m invalid syntax\n"
     ]
    }
   ],
   "source": [
    "## Plotting with `matplotlib`\n",
    "\n",
    "- Matplotlib is strongly influenced by Matlab\n",
    "- A large variety of visualizations are possible\n",
    "    - [http://matplotlib.sourceforge.net/gallery.html](http://matplotlib.sourceforge.net/gallery.html)\n",
    "- Numeric data is converted to numpy arrays for efficient processing and visualization\n",
    "\n",
    "<b>Visualization is essential for bioinformatics</b>--particularly when analyzing high-throughput datasets. Analyses and visualizations need to be reproducible and (often) automated.\n",
    "\n",
    "<img src=\"./images/heat_map.jpg\" align=\"left\" width=\"500\" />"
   ]
  },
  {
   "cell_type": "code",
   "execution_count": null,
   "metadata": {
    "collapsed": true
   },
   "outputs": [],
   "source": []
  },
  {
   "cell_type": "code",
   "execution_count": null,
   "metadata": {
    "collapsed": true
   },
   "outputs": [],
   "source": []
  },
  {
   "cell_type": "code",
   "execution_count": null,
   "metadata": {
    "collapsed": true
   },
   "outputs": [],
   "source": []
  },
  {
   "cell_type": "code",
   "execution_count": null,
   "metadata": {
    "collapsed": true
   },
   "outputs": [],
   "source": []
  },
  {
   "cell_type": "code",
   "execution_count": null,
   "metadata": {
    "collapsed": true
   },
   "outputs": [],
   "source": []
  },
  {
   "cell_type": "code",
   "execution_count": null,
   "metadata": {
    "collapsed": true
   },
   "outputs": [],
   "source": []
  },
  {
   "cell_type": "code",
   "execution_count": null,
   "metadata": {
    "collapsed": true
   },
   "outputs": [],
   "source": []
  },
  {
   "cell_type": "code",
   "execution_count": null,
   "metadata": {
    "collapsed": true
   },
   "outputs": [],
   "source": []
  }
 ],
 "metadata": {
  "kernelspec": {
   "display_name": "Python 3",
   "language": "python",
   "name": "python3"
  },
  "language_info": {
   "codemirror_mode": {
    "name": "ipython",
    "version": 3
   },
   "file_extension": ".py",
   "mimetype": "text/x-python",
   "name": "python",
   "nbconvert_exporter": "python",
   "pygments_lexer": "ipython3",
   "version": "3.5.2"
  }
 },
 "nbformat": 4,
 "nbformat_minor": 2
}
